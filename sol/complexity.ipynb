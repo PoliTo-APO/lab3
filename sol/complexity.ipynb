{
 "cells": [
  {
   "cell_type": "markdown",
   "id": "4d82670e",
   "metadata": {},
   "source": [
    "# Complessità computationale\n",
    "In questo notebook verranno svolti alcuni esperimenti sulla complessità computazionale.\n",
    "Nello, specifico verra analizzata e confrontata la complessità computazionale di alcune strutture dati fornite da\n",
    "Python (list, set e deque) nell'effettuare le stesse operazioni.\n",
    "\n",
    "Successivamente verrà richiesto di scrivere un algoritmo per ordinare una lista, la cui efficienza verrà confrontata con il metodo sort() di Python e con l'algoritmo insertion sort."
   ]
  },
  {
   "cell_type": "code",
   "execution_count": null,
   "id": "1d64d113",
   "metadata": {},
   "outputs": [],
   "source": [
    "# import dei moduli necessari\n",
    "import matplotlib\n",
    "import matplotlib.pyplot as plt\n",
    "import time\n",
    "import random\n",
    "from typing import Iterable, Callable\n",
    "from datetime import timedelta\n",
    "from collections import deque\n",
    "import copy"
   ]
  },
  {
   "cell_type": "code",
   "execution_count": null,
   "id": "ff82541f",
   "metadata": {},
   "outputs": [],
   "source": [
    "# funzione per disegnare i grafici della complessità (usata in seguito)\n",
    "def plot_time_comparison(sizes: list[int], *args: tuple[list[int], str]) -> None:\n",
    "    fig, ax1 = plt.subplots(1,1)\n",
    "    ax1.set_xlabel(\"Numero elementi (N)\")\n",
    "    ax1.set_ylabel(\"Tempo (millisecondi)\")\n",
    "    for times, label in args:\n",
    "        ts = [t/1000 for t in times]\n",
    "        ax1.plot(sizes, ts, label=label)\n",
    "    plt.legend(loc=\"upper left\")"
   ]
  },
  {
   "cell_type": "markdown",
   "id": "7ce6692e",
   "metadata": {},
   "source": [
    "# Strutture dati\n",
    "\n",
    "La complessità di un'operazione su una struttura dati viene solitamente espressa in termini del numero di elementi contenuti. Usando la notazione O grande, la complessità di un'operazione sarà **O(F(N))**, dove **N** è il numero di elementi contentuti e **F(N)** una funzione di **N**."
   ]
  },
  {
   "cell_type": "markdown",
   "id": "4bb57bc8",
   "metadata": {},
   "source": [
    "Completare la funzione ```gen_problem_sizes```, al fine di generare l'elenco di dimensioni, ovvero il numero di elementi, con cui testare le strutture dati. Data una dimensione iniziale (*start_size*), una finale (*end_size*) e il numero voluto di punti (*num_points*), la funzione deve restituire una lista di interi equidistanziati nell'intervallo \\[*start_size*, *end_size*\\], estremi inclusi. Effettuare approssimazioni se necessario."
   ]
  },
  {
   "cell_type": "code",
   "execution_count": null,
   "id": "9119a373",
   "metadata": {},
   "outputs": [],
   "source": [
    "def gen_problem_sizes(start_size: int, end_size:int, num_points:int) -> list[int]:\n",
    "    step = (end_size - start_size)/(num_points - 1)\n",
    "    return [round(start_size + step*i) for i in range(num_points)]"
   ]
  },
  {
   "cell_type": "code",
   "execution_count": null,
   "id": "7c68f5dc",
   "metadata": {},
   "outputs": [],
   "source": [
    "gen_problem_sizes(5, 15, 3) # output: 5, 10, 15"
   ]
  },
  {
   "cell_type": "markdown",
   "id": "7ced6ab5",
   "metadata": {},
   "source": [
    "Completare la funzione  ```gen_elements``` di modo che restituisca un set contenente numeri interi generati casulamente (ovviamente non duplicati). Il numero di interi che deve contenere il set è passato come parametro. Questi numeri interi verranno utlizzati per popolare la le strutture dati al fine di valutare la complessità delle operazioni per diverso numero di valori contenuti."
   ]
  },
  {
   "cell_type": "code",
   "execution_count": null,
   "id": "64937603",
   "metadata": {},
   "outputs": [],
   "source": [
    "def gen_elements(num_elm: int) -> set[int]:\n",
    "    elm_set = set()\n",
    "    while len(elm_set) < num_elm:\n",
    "        elm = random.randint(0, num_elm*1000)\n",
    "        elm_set.add(elm)\n",
    "    return elm_set"
   ]
  },
  {
   "cell_type": "code",
   "execution_count": null,
   "id": "ef5d747c",
   "metadata": {},
   "outputs": [],
   "source": [
    "gen_elements(10) # output: 10 interi casuali"
   ]
  },
  {
   "cell_type": "markdown",
   "id": "137a29cd",
   "metadata": {},
   "source": [
    "# Iterazione\n",
    "Dati una lista (```list```) e un set (```set```) popolati con gli stessi elementi, quali sono le complessità computazionali nel leggere tutti gli elementi contenuti in funzione del loro numero?\n",
    "\n",
    "Iniziamo a definire un intervallo di dimensioni per cui testare l'iterazione:"
   ]
  },
  {
   "cell_type": "code",
   "execution_count": null,
   "id": "222533f1",
   "metadata": {
    "scrolled": true
   },
   "outputs": [],
   "source": [
    "start_size = 100  # dimensione iniziale\n",
    "end_size = 20000  # dimenzione finale\n",
    "num_points = 50   # numero di dimensioni da testare\n",
    "sizes = gen_problem_sizes(start_size, end_size, num_points)\n",
    "sizes"
   ]
  },
  {
   "cell_type": "markdown",
   "id": "fda2e977",
   "metadata": {},
   "source": [
    "Generiamo ora le strutture dati da testare, delle dimensioni scelte:"
   ]
  },
  {
   "cell_type": "code",
   "execution_count": null,
   "id": "f4c04126",
   "metadata": {},
   "outputs": [],
   "source": [
    "elements_list = [gen_elements(n) for n in sizes]        # genero un set di elementi per ciascuna dimensione\n",
    "lists = [list(elements) for elements in elements_list]  # creo liste con gli elementi dei set\n",
    "sets = [set(elements) for elements in elements_list]    # copio i set di elementi"
   ]
  },
  {
   "cell_type": "markdown",
   "id": "48f266f4",
   "metadata": {},
   "source": [
    "Creiamo ora una funzione che, data una lista di strutture dati, per ognuna di esse itera su tutti gli elementi contenuti e restituisce in tempo impiegato per ciascuna struttura. Dato che con gli elementi su cui si itera non deve essere svolto alcun compito, si è aggiunta l'instuzione ```cont+=1``` invece di ```pass```, di modo che python non decida di saltare iterazioni per ottimizzare il tempo di esecuzione (questa è una tipica ottimizzazione di molti linguaggi).\n",
    "\n",
    "Il tempo di esecuzione può essere influenzato da molti fattori (ad es. il pc è impegnato a fare altro), per cui ciascun test viene ripetuto più volte (```num_trials```) mediando il tempo di esecuzione."
   ]
  },
  {
   "cell_type": "code",
   "execution_count": null,
   "id": "a595dc48",
   "metadata": {},
   "outputs": [],
   "source": [
    "def test_iteration(data_structures: list[Iterable[int]], num_trials: int) -> list[int]:\n",
    "    times = []\n",
    "    for structure in data_structures:\n",
    "        cont = 0\n",
    "        t_start = time.perf_counter_ns()\n",
    "        for t in range(num_trials):\n",
    "            for val in structure:\n",
    "                cont += 1\n",
    "        duration = (time.perf_counter_ns() - t_start)/num_trials\n",
    "        times.append(duration)\n",
    "    return times     "
   ]
  },
  {
   "cell_type": "markdown",
   "id": "3d4a2689",
   "metadata": {},
   "source": [
    "A questo punto si hanno tutti gli elementi per eseguire il test. Prima di iniziare, si definisce quante volte ripetere ciasun test (```num_trials```), per avere un valore meno soggetto alle condizioni dell'elaboratore.\n",
    "\n",
    "Eseguire la cella sottostante diverse volte, e notare che i grafici variano, anche in modo significativo, da una prova all'altra. Successivamente testare per valori di ```num_trials``` più alti e notare come questo rende i risultati meno casuali, delineando meglio il trend della complessità.\n",
    "\n",
    "Secondo voi qual è, in notazione O grande, la complessità dell'iterazione sulle due strutture dati (```list``` e ```set```)?"
   ]
  },
  {
   "cell_type": "code",
   "execution_count": null,
   "id": "2845f2e7",
   "metadata": {},
   "outputs": [],
   "source": [
    "# test_iteration\n",
    "num_trials = 5\n",
    "list_times = test_iteration(lists, num_trials)\n",
    "set_times = test_iteration(sets, num_trials)\n",
    "\n",
    "# plot times\n",
    "plot_time_comparison(sizes, (list_times, \"List iteration\"), (set_times, \"Set iteration\"))   "
   ]
  },
  {
   "cell_type": "markdown",
   "id": "6995ae60",
   "metadata": {},
   "source": [
    "Dopo aver effettuato alcuni esperimenti, si intuisce che la complessità è lineare **O(n)** in entrambi i casi."
   ]
  },
  {
   "cell_type": "markdown",
   "id": "7c34f328",
   "metadata": {},
   "source": [
    "# Ricerca per valore\n",
    "Sulle stesse strutture (```list``` e ```set```), testiamo ora il tempo impiegato per sapere se un elemento è contentuto nella struttura dati (l'operatore ```in``` in Python).\n",
    "\n",
    "Definiamo, come prima, i parametri del test."
   ]
  },
  {
   "cell_type": "code",
   "execution_count": null,
   "id": "678688ac",
   "metadata": {},
   "outputs": [],
   "source": [
    "start_size = 100\n",
    "end_size = 20000\n",
    "num_points = 50\n",
    "sizes = gen_problem_sizes(start_size, end_size, num_points)"
   ]
  },
  {
   "cell_type": "markdown",
   "id": "32cfd8c4",
   "metadata": {},
   "source": [
    "Creiamo le strutture dati delle diverse dimensioni"
   ]
  },
  {
   "cell_type": "code",
   "execution_count": null,
   "id": "fb07d2a4",
   "metadata": {},
   "outputs": [],
   "source": [
    "elements_list = [gen_elements(n) for n in sizes]\n",
    "lists = [list(elements) for elements in elements_list]\n",
    "sets = [set(elements) for elements in elements_list]"
   ]
  },
  {
   "cell_type": "markdown",
   "id": "d10dd647",
   "metadata": {},
   "source": [
    "Definiamo, come prima, una funzione che testi le strutture dati e salvi i tempi di esecuzione:"
   ]
  },
  {
   "cell_type": "code",
   "execution_count": null,
   "id": "15097e8b",
   "metadata": {},
   "outputs": [],
   "source": [
    "def test_find(data_structures: Iterable[int], num_trials: int) -> list[int]:\n",
    "    times = []\n",
    "    for structure in data_structures:\n",
    "        to_find = random.sample(list(structure), num_trials)\n",
    "        cont = 0\n",
    "        t_start = time.perf_counter_ns()\n",
    "        for elm in to_find:\n",
    "            if elm in structure:\n",
    "                cont += 1\n",
    "        duration = (time.perf_counter_ns() - t_start)/num_trials\n",
    "        times.append(duration)\n",
    "    return times  "
   ]
  },
  {
   "cell_type": "markdown",
   "id": "8cc11e06",
   "metadata": {},
   "source": [
    "Lanciamo gli esperimenti. Testare, come prima, per diversi valori di ```num_trials```. E' anche possibile cambiare gli altri parametri, come il numero di punti e l'intervallo di dimensioni.\n",
    "\n",
    "Qual è la complessità dell'operazione per le due strutture dati?"
   ]
  },
  {
   "cell_type": "code",
   "execution_count": null,
   "id": "182b0353",
   "metadata": {},
   "outputs": [],
   "source": [
    "num_trials = 10\n",
    "list_times = test_find(lists, num_trials)\n",
    "set_times = test_find(sets, num_trials)\n",
    "\n",
    "plot_time_comparison(sizes, (list_times, \"List search\"), (set_times, \"Set search\"))   "
   ]
  },
  {
   "cell_type": "markdown",
   "id": "77368af0",
   "metadata": {},
   "source": [
    "Dopo aver effettuato alcuni esperimenti, si intuisce che la complessità è lineare **O(n)** per le liste, mentre per i set è a tempo costante **O(1)**. Questo significa che non importa quanto il set sia grande, il tempo per sapere se un contiene un valore è sempre lo stesso.\n",
    "\n",
    "Questo è uno dei vantaggi che si ottentono con i ```set```, sacrificando proprietà come l'ordinamento e la presenza di duplicati."
   ]
  },
  {
   "cell_type": "markdown",
   "id": "dc90d84f",
   "metadata": {},
   "source": [
    "# Inserimento\n",
    "\n",
    "Cambiamo ora le strutture dati in analisi. Passiamo a due implementazioni diverse del concetto di lista presenti in Python: ```list``` e  ```deque```.\n",
    "\n",
    "Testiamo la complessità di inserimento nel caso di:\n",
    "- inserimento in coda (in ultima posizione)\n",
    "- inserimento in testa (in prima posizione)\n",
    "- inserimento in posizione casuale\n",
    "\n",
    "Iniziamo da definire i parametri dei test:"
   ]
  },
  {
   "cell_type": "code",
   "execution_count": null,
   "id": "510dc872",
   "metadata": {},
   "outputs": [],
   "source": [
    "start_size = 100\n",
    "end_size = 20000\n",
    "num_steps = 50\n",
    "sizes = gen_problem_sizes(start_size, end_size, num_steps)"
   ]
  },
  {
   "cell_type": "markdown",
   "id": "3bc9f9ad",
   "metadata": {},
   "source": [
    "Creiamo le strutture dati da testare"
   ]
  },
  {
   "cell_type": "code",
   "execution_count": null,
   "id": "0796a074",
   "metadata": {},
   "outputs": [],
   "source": [
    "elements_list = [gen_elements(n) for n in sizes]\n",
    "lists = [list(elements) for elements in elements_list]\n",
    "deques = [deque(elements) for elements in elements_list]"
   ]
  },
  {
   "cell_type": "markdown",
   "id": "07aae9ce",
   "metadata": {},
   "source": [
    "Creiamo le funzioni che eseguono i diversi test:"
   ]
  },
  {
   "cell_type": "code",
   "execution_count": null,
   "id": "4a0bcb87",
   "metadata": {},
   "outputs": [],
   "source": [
    "def test_insert_back(data_structures: Iterable[int], num_trials: int) -> list[int]:\n",
    "    times = []\n",
    "    for structure in data_structures:\n",
    "        to_extend = [copy.copy(structure) for i in range(num_trials)]\n",
    "        t_start = time.perf_counter_ns()\n",
    "        for s in to_extend:\n",
    "            s.append(1)\n",
    "        duration = (time.perf_counter_ns() - t_start)/num_trials\n",
    "        times.append(duration)\n",
    "    return times\n",
    "\n",
    "def test_insert_front(data_structures: Iterable[int], num_trials: int) -> list[int]:\n",
    "    times = []\n",
    "    for structure in data_structures:\n",
    "        to_extend = [copy.copy(structure) for i in range(num_trials)]\n",
    "        t_start = time.perf_counter_ns()\n",
    "        for s in to_extend:\n",
    "            s.insert(0, 1)\n",
    "        duration = (time.perf_counter_ns() - t_start)/num_trials\n",
    "        times.append(duration)\n",
    "    return times\n",
    "\n",
    "\n",
    "def test_insert_random(data_structures: Iterable[int], num_trials: int) -> list[int]:\n",
    "    times = []\n",
    "    for structure in data_structures:\n",
    "        to_extend = [copy.copy(structure) for i in range(num_trials)]\n",
    "        insert_positions = [random.randint(0, len(structure) - 1) for i in range(num_trials)]\n",
    "        t_start = time.perf_counter_ns()\n",
    "        for i in range(num_trials):\n",
    "            to_extend[i].insert(insert_positions[i], 1)\n",
    "        duration = (time.perf_counter_ns() - t_start)/num_trials\n",
    "        times.append(duration)\n",
    "    return times"
   ]
  },
  {
   "cell_type": "markdown",
   "id": "0bd73807",
   "metadata": {},
   "source": [
    "Testiamo l'inserimento in coda, qual è la complessità?"
   ]
  },
  {
   "cell_type": "code",
   "execution_count": null,
   "id": "5f35960a",
   "metadata": {},
   "outputs": [],
   "source": [
    "num_trials = 100\n",
    "list_times_back = test_insert_back(lists, num_trials)\n",
    "deque_times_back = test_insert_back(deques, num_trials)\n",
    "plot_time_comparison(sizes, (list_times_back, \"List back insertion\"), (deque_times_back, \"Deque back insertion\"))"
   ]
  },
  {
   "cell_type": "markdown",
   "id": "fd2e1283",
   "metadata": {},
   "source": [
    "Testiamo l'inserimento in testa, qual è la complessità?"
   ]
  },
  {
   "cell_type": "code",
   "execution_count": null,
   "id": "019c9065",
   "metadata": {},
   "outputs": [],
   "source": [
    "num_trials = 100\n",
    "list_times_front = test_insert_front(lists, num_trials)\n",
    "deque_times_front = test_insert_front(deques, num_trials)\n",
    "plot_time_comparison(sizes, (list_times_front, \"List front insertion\"), (deque_times_front, \"Deque front insertion\"))"
   ]
  },
  {
   "cell_type": "markdown",
   "id": "a0673a94",
   "metadata": {},
   "source": [
    "Testiamo l'inserimento in posizione casuale, qual è la complessità?"
   ]
  },
  {
   "cell_type": "code",
   "execution_count": null,
   "id": "81c556ef",
   "metadata": {},
   "outputs": [],
   "source": [
    "num_trials = 100\n",
    "list_times_random = test_insert_random(lists, num_trials)\n",
    "deque_times_random = test_insert_random(deques, num_trials)\n",
    "plot_time_comparison(sizes, (list_times_random, \"List random insertion\"), (deque_times_random, \"Deque random insertion\")) "
   ]
  },
  {
   "cell_type": "markdown",
   "id": "c6a8bc74",
   "metadata": {},
   "source": [
    "L'inserimento in posizione casuale è lineare in entrambi i casi **O(N)**, anche se le deque sono più veloci come si vede per la diversa inclinazione della retta.\n",
    "Quello che cambia, invece, è l'inserimento in testa e in coda, dove le ```deque``` sono ottimizzate per avere un tempo di inserimento lineare **O(1)**.\n",
    "\n",
    "Quello che avviene in ```list``` è che, quando si inserisce un elemento, sposta avanti tutti gli altri per far spazio a quelli nuovi. In media è necessario spostare **N/2** elementi quando l'inserimento è casuale, mentre per l'inserimento in testa devono essere spostati tutti. Ma allora perchè l'inserimento in coda, dove non è necessario spostare elementi, rimane lineare?"
   ]
  },
  {
   "cell_type": "markdown",
   "id": "0b004360",
   "metadata": {},
   "source": [
    "### Amortized complexity\n",
    "\n",
    "Qui le cose si complicano, perchè ```list``` per rendere efficiente inserire consecutivamente in coda, genera preventivamente le nuove posizioni, e quando effettivamente si inserisce si limita a copiare il valore. Questo viene fatto perchè, nonostante la complessità sia sempre **O(1)**, creare la posizione è molto più lento che soltanto copiare il valore, in quanto potrebbe essere necessario fare una richiesta al sistema operativo, aggiungendo dell'overhead per ogni inserimento. Facendolo una volta sola per più posizioni, si aggiunge l'overhead una volta sola.\n",
    "\n",
    "Ma quando vengono generate queste nuove posizioni? Solitamente quando si finiscono quelle a disposizione. E quante ne vengono create? Un numero proporzionale alle dimenzioni della lista, usando il principio *più ne hai usate più ne userai*. Il tempo di questa operazione, quando viene svolta, è pertanto **O(M)** (lineare), dove **M** è proporzionale a **N**, secondo il principio sopra esposto, rendendo la complessità **O(N)**. Questa viene fatta una volta per i successivi **M** inserimenti che avengono in tempo costate, **O(1)**. Pertanto la complessità media (amortized complexity) è **O(M)/M = O(1)**.  \n",
    "\n",
    "Creando una lista tramite costrutture, come facciamo nel codice di test, si sa già quanti elementi servono e non ne vengono creati di aggiuntivi. Quando però facciamo il primo inserimento, scatta l'allocazione delle posizioni vuote. Per questo percepiamo una complessità lineare."
   ]
  },
  {
   "cell_type": "markdown",
   "id": "afefb270",
   "metadata": {},
   "source": [
    "Proviamo ora ad adattare la funzione di test di modo che si inseriscano 2 elementi e si misuri soltanto il tempo di inserimento del secondo. Il primo inserimento si occuperà dell'allocazione, mentre il secondo avrà già le posizioni allocate."
   ]
  },
  {
   "cell_type": "code",
   "execution_count": null,
   "id": "c627c38a",
   "metadata": {},
   "outputs": [],
   "source": [
    "def test_insert_back_adapted(data_structures: Iterable[int], num_trials: int) -> list[int]:\n",
    "    times = []\n",
    "    for structure in data_structures:\n",
    "        to_extend = [copy.copy(structure) for i in range(num_trials)]\n",
    "        for s in to_extend:\n",
    "            s.append(1)\n",
    "        t_start = time.perf_counter_ns()\n",
    "        for s in to_extend:\n",
    "            s.append(2)\n",
    "        duration = (time.perf_counter_ns() - t_start)/num_trials\n",
    "        times.append(duration)\n",
    "    return times\n",
    "\n",
    "start_size = 100\n",
    "end_size = 20000\n",
    "num_steps = 50\n",
    "sizes = gen_problem_sizes(start_size, end_size, num_steps)\n",
    "\n",
    "elements_list = [gen_elements(n) for n in sizes]\n",
    "lists = [list(elements) for elements in elements_list]\n",
    "deques = [deque(elements) for elements in elements_list]\n",
    "\n",
    "num_trials = 100\n",
    "list_times_back = test_insert_back_adapted(lists, num_trials)\n",
    "deque_times_back = test_insert_back_adapted(deques, num_trials)\n",
    "plot_time_comparison(sizes, (list_times_back, \"List back insertion\"), (deque_times_back, \"Deque back insertion\"))\n"
   ]
  },
  {
   "cell_type": "markdown",
   "id": "4b961134",
   "metadata": {},
   "source": [
    "In questo caso la complessità risulta costante **O(1)**."
   ]
  },
  {
   "cell_type": "markdown",
   "id": "ad18696e",
   "metadata": {},
   "source": [
    "# Accesso per posizione\n",
    "Testiamo ora ```list``` e ```deque``` per quanto riguarda l'accesso per posizione.\n",
    "\n",
    "Come prima, definiamo i parametri del test, creiamo le struttture dati e scriviamo la funzione di test."
   ]
  },
  {
   "cell_type": "code",
   "execution_count": null,
   "id": "666fb978",
   "metadata": {},
   "outputs": [],
   "source": [
    "start_size = 100\n",
    "end_size = 50000\n",
    "num_steps = 100\n",
    "sizes = gen_problem_sizes(start_size, end_size, num_steps)"
   ]
  },
  {
   "cell_type": "code",
   "execution_count": null,
   "id": "a8573a9c",
   "metadata": {},
   "outputs": [],
   "source": [
    "elements_list = [gen_elements(n) for n in sizes]\n",
    "lists = [list(elements) for elements in elements_list]\n",
    "deques = [deque(elements) for elements in elements_list]"
   ]
  },
  {
   "cell_type": "code",
   "execution_count": null,
   "id": "4c7382f0",
   "metadata": {},
   "outputs": [],
   "source": [
    "def test_indexing(data_structures: Iterable[int], num_trials: int) -> list[int]:\n",
    "    times = []\n",
    "    for structure in data_structures:\n",
    "        positions = [random.randint(0, len(structure) - 1) for i in range(num_trials)]\n",
    "        cont = 0\n",
    "        t_start = time.perf_counter_ns()\n",
    "        for pos in positions:\n",
    "            cont += structure[pos]\n",
    "        duration = (time.perf_counter_ns() - t_start)/num_trials\n",
    "        times.append(duration)\n",
    "    return times"
   ]
  },
  {
   "cell_type": "markdown",
   "id": "2ef06df8",
   "metadata": {},
   "source": [
    "Eseguiamo i test, qual è la complessità per le due strutture dati?"
   ]
  },
  {
   "cell_type": "code",
   "execution_count": null,
   "id": "defdbebf",
   "metadata": {
    "scrolled": false
   },
   "outputs": [],
   "source": [
    "num_trials = 100\n",
    "list_times = test_indexing(lists, num_trials)\n",
    "deque_times = test_indexing(deques, num_trials)\n",
    "\n",
    "plot_time_comparison(sizes, (list_times, \"List indexing\"), (deque_times, \"Deque indexing\"))"
   ]
  },
  {
   "cell_type": "markdown",
   "id": "75e85c8b",
   "metadata": {},
   "source": [
    "La complessità è **O(1)** (costante) per ```list``` mentre è **O(N)** (lineare) per ```deque```. Questo avviene perchè quanto si usa ```deque``` è necessario scorrere tutti gli elementi per arrivare alla posizione voluta. Con ```list```, invece l'accesso è diretto ed effettuato in tempo costante."
   ]
  },
  {
   "cell_type": "markdown",
   "id": "57ef921d",
   "metadata": {},
   "source": [
    "# Sorting\n",
    "\n",
    "Analizziamo ora l'algoritmo di ordinamento usato da Python quando si invoca ```sort()``` su una collezione ordinabile.\n",
    "\n",
    "Esso verrà confrontato con un'implementazione dell' ```insertion sort``` e da un algoritmo scritto da voi."
   ]
  },
  {
   "cell_type": "code",
   "execution_count": null,
   "id": "b7b125f1",
   "metadata": {},
   "outputs": [],
   "source": [
    "def insertion_sort(lst: list[int]):\n",
    "    i = 1\n",
    "    while i < len(lst):\n",
    "        current = lst[i]\n",
    "        j = i - 1\n",
    "        while current < lst[j] and j >= 0:\n",
    "            lst[j+1] = lst[j]\n",
    "            j-=1\n",
    "        lst[j+1] = current\n",
    "        i+=1\n",
    "    return lst"
   ]
  },
  {
   "cell_type": "markdown",
   "id": "0f762990",
   "metadata": {},
   "source": [
    "Implementare un algorimo di sorting, inventato da voi o scelto tra quelli mostrati a lezione:"
   ]
  },
  {
   "cell_type": "code",
   "execution_count": null,
   "id": "c45fda0b",
   "metadata": {},
   "outputs": [],
   "source": [
    "def your_sorting_alg(lst: list[int]):\n",
    "    i = 1\n",
    "    while i < len(lst):\n",
    "        current = lst[i]\n",
    "        j = i - 1\n",
    "        while current < lst[j] and j >= 0:\n",
    "            lst[j+1] = lst[j]\n",
    "            j-=1\n",
    "        lst[j+1] = current\n",
    "        i+=1\n",
    "    return lst"
   ]
  },
  {
   "cell_type": "markdown",
   "id": "09c5f434",
   "metadata": {},
   "source": [
    "Definiamo i parametri e creiamo la funzione di test"
   ]
  },
  {
   "cell_type": "code",
   "execution_count": null,
   "id": "95ff0391",
   "metadata": {},
   "outputs": [],
   "source": [
    "start_size = 100\n",
    "end_size = 1000\n",
    "num_steps = 10\n",
    "sizes = gen_problem_sizes(start_size, end_size, num_steps)"
   ]
  },
  {
   "cell_type": "code",
   "execution_count": null,
   "id": "862d63fe",
   "metadata": {},
   "outputs": [],
   "source": [
    "def test_sorting(lists: list[int], num_trials: int, sort_alg: Callable[[list[int]], list[int]]) -> list[int]:\n",
    "    times = []\n",
    "    for l in lists:\n",
    "        to_sort = [copy.copy(l) for i in range(num_trials)]\n",
    "        cont = 0\n",
    "        t_start = time.perf_counter_ns()\n",
    "        for l in to_sort:\n",
    "            sort_alg(l)\n",
    "        duration = (time.perf_counter_ns() - t_start)/num_trials\n",
    "        times.append(duration)\n",
    "    return times"
   ]
  },
  {
   "cell_type": "markdown",
   "id": "a619f1a9",
   "metadata": {},
   "source": [
    "Testare i 3 algoritmi, quali sono le complessità di quelli forniti? E di quello implementato da voi?"
   ]
  },
  {
   "cell_type": "code",
   "execution_count": null,
   "id": "4a9257b0",
   "metadata": {},
   "outputs": [],
   "source": [
    "num_trials = 5\n",
    "lists = [list(gen_elements(n)) for n in sizes]\n",
    "\n",
    "sort_times_python = test_sorting([copy.copy(l) for l in lists], num_trials, list.sort)\n",
    "sort_times_insertion = test_sorting([copy.copy(l) for l in lists], num_trials, insertion_sort)\n",
    "sort_times_your_alg = test_sorting([copy.copy(l) for l in lists], num_trials, your_sorting_alg)\n",
    "\n",
    "\n",
    "plot_time_comparison(\n",
    "    sizes, \n",
    "    (sort_times_python, \"Python sort\"),\n",
    "    (sort_times_insertion, \"Insertion sort\"),\n",
    "    (sort_times_your_alg, \"Your algorithm\"))"
   ]
  },
  {
   "cell_type": "markdown",
   "id": "28c62508",
   "metadata": {},
   "source": [
    "Python utilizza ```timsort``` come algoritmo di ordinamento. E' stato implementato per la prima volta nel 2002, appositamente per il linguaggio Python, e da allora è stato adottato da molti altri linguaggi. La sua complessità **NON** è costante, come potrebbe sembrare, ma mediamente **O(N)** (lineare) e **O(N log(N))** nei casi peggiori. Il fatto che dal grafico sembri constante, è dovuto al fatto che sia estremamente ottimizzato, anche nell'implementazione, rispetto agli altri algoritmi."
   ]
  },
  {
   "cell_type": "markdown",
   "id": "9395a8f1",
   "metadata": {},
   "source": [
    "Per quanto riguarda l'```insersion sort``` la complessità è quadratica, **O(N^2)**, rendendono molto poco efficiente. Qual è la complessità del vostro algoritmo? Siete riusciti a scendere sotto **O(N^2)**?"
   ]
  },
  {
   "cell_type": "markdown",
   "id": "8ff35745",
   "metadata": {},
   "source": [
    "# Conclusioni\n"
   ]
  },
  {
   "cell_type": "markdown",
   "id": "c572cb5a",
   "metadata": {},
   "source": [
    "In conclusione, questo laboratorio serve a dimostrare che una conoscenza delle strutture dati e degli algoritmi è essenziale anche nel caso in cui ci si limiti ad usare funzioni già pronte, come nel caso di Python. La scelta di un algorimo o struttura dati può migliorare o peggiorare drasticamente le performance del codice che si sviluppa."
   ]
  }
 ],
 "metadata": {
  "kernelspec": {
   "display_name": "Python 3 (ipykernel)",
   "language": "python",
   "name": "python3"
  },
  "language_info": {
   "codemirror_mode": {
    "name": "ipython",
    "version": 3
   },
   "file_extension": ".py",
   "mimetype": "text/x-python",
   "name": "python",
   "nbconvert_exporter": "python",
   "pygments_lexer": "ipython3",
   "version": "3.10.6"
  }
 },
 "nbformat": 4,
 "nbformat_minor": 5
}
